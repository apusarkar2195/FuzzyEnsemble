{
 "cells": [
  {
   "cell_type": "code",
   "execution_count": null,
   "id": "0bc9481a",
   "metadata": {},
   "outputs": [],
   "source": [
    "import numpy as np\n",
    "import os\n",
    "import random\n",
    "from sympy.solvers import solve\n",
    "from sympy import Symbol\n",
    "from sklearn.metrics import accuracy_score"
   ]
  },
  {
   "cell_type": "code",
   "execution_count": null,
   "id": "c8223a45",
   "metadata": {},
   "outputs": [],
   "source": [
    "model_1_path = os.path.join(os.getcwd(), \"Confidence Score\", \"WISDM\", \"wisdm_incep.npy\")\n",
    "model_2_path = os.path.join(os.getcwd(), \"Confidence Score\", \"WISDM\", \"wisdm_resnet.npy\")\n",
    "model_3_path = os.path.join(os.getcwd(), \"Confidence Score\", \"WISDM\", \"wisdm_cus.npy\")\n",
    "model_4_path = os.path.join(os.getcwd(), \"Confidence Score\", \"WISDM\", \"wisdm_den.npy\")\n",
    "model_5_path = os.path.join(os.getcwd(), \"Confidence Score\", \"WISDM\", \"wisdm_xcep.npy\")\n",
    "\n",
    "test_path = os.path.join(os.getcwd(), \"Confidence Score\", \"WISDM\", \"y_test_wisdm.npy\")"
   ]
  },
  {
   "cell_type": "code",
   "execution_count": null,
   "id": "de3d31c2",
   "metadata": {},
   "outputs": [],
   "source": [
    "model_1_score=np.load(model_1_path)\n",
    "model_2_score=np.load(model_2_path)\n",
    "model_3_score=np.load(model_3_path)\n",
    "model_4_score=np.load(model_4_path)\n",
    "model_5_score=np.load(model_5_path)\n",
    "\n",
    "y_test=np.load(test_path)"
   ]
  },
  {
   "cell_type": "code",
   "execution_count": null,
   "id": "35ef718d",
   "metadata": {},
   "outputs": [],
   "source": [
    "def Compute_A_3(f,l):\n",
    "    n = len(f)\n",
    "    temp_1 = f[0]+f[1]+f[2]\n",
    "    temp_2 = l * ((f[0] * f[1]) + (f[0] * f[2]) + (f[1] * f[2]))\n",
    "    temp_3 = (f[0] * f[1] * f[2]) * (l ** (n-1))\n",
    "    \n",
    "    return (temp_1 + temp_2 + temp_3)"
   ]
  },
  {
   "cell_type": "code",
   "execution_count": null,
   "id": "f679ef9e",
   "metadata": {},
   "outputs": [],
   "source": [
    "def Compute_A_4(f,l):\n",
    "    n = len(f)\n",
    "    temp_1 = f[0]+f[1]+f[2] + f[3]\n",
    "    temp_2 = l * ((f[0] * f[1]) + (f[0] * f[2]) + (f[0] * f[3]) + (f[1] * f[2]) + (f[1] * f[3]) + (f[2] * f[3]))\n",
    "    temp_3 = (f[0] * f[1] * f[2] * f[3]) * (l ** (n-1))\n",
    "    \n",
    "    return (temp_1 + temp_2 + temp_3)"
   ]
  },
  {
   "cell_type": "code",
   "execution_count": null,
   "id": "8a9c47bd",
   "metadata": {},
   "outputs": [],
   "source": [
    "def Function(x1,x2,x3,x4,x5):\n",
    "    fuzzy_measure=np.array([x1,x2,x3,x4,x5])\n",
    "    l=Symbol('l',real=True)\n",
    "    lam=solve( ( (1+l*fuzzy_measure[0])*(1+l*fuzzy_measure[1])*(1+l*fuzzy_measure[2])*(1+l*fuzzy_measure[3])*(1+l*fuzzy_measure[4]) )-(1+l) , l )\n",
    "    lam=[i for i in lam if i>0]\n",
    "    if len(lam)==0:\n",
    "        return 1\n",
    "    lam.sort()\n",
    "    lam=float(lam[0])\n",
    "    #print(\"Lam value is : {}\".format(lam))\n",
    "    \n",
    "    fuzzy_score=np.zeros(shape=model_1_score.shape, dtype=float)\n",
    "    for i in range(fuzzy_score.shape[0]):\n",
    "        for j in range(6):\n",
    "            \n",
    "            f_score=np.asarray([ model_1_score[i][j], model_2_score[i][j], model_3_score[i][j], model_4_score[i][j], model_5_score[i][j] ])\n",
    "            \n",
    "            permute_index=np.argsort(f_score)\n",
    "            f_score_permuted=f_score[permute_index]\n",
    "            fuzzy_measure_permuted=fuzzy_measure[permute_index]\n",
    "            \n",
    "            A_0=1.0\n",
    "            A_1 =Compute_A_4(fuzzy_measure_permuted[1:], lam)\n",
    "            A_2 = Compute_A_3(fuzzy_measure_permuted[2:], lam)\n",
    "            A_3=( fuzzy_measure_permuted[3] + fuzzy_measure_permuted[4] + lam*fuzzy_measure_permuted[3]*fuzzy_measure_permuted[4] )\n",
    "            A_4=fuzzy_measure_permuted[4]\n",
    "            #print(\"The A_i values are {} , {}, {}\".format(A_0,A_1,A_2))\n",
    "            \n",
    "            sugeno_score=max([ min(f_score_permuted[0],A_0), min(f_score_permuted[1],A_1), min(f_score_permuted[2],A_2), min(f_score_permuted[3],A_3), min(f_score_permuted[4],A_4) ])\n",
    "            #print(\"Integral score is : {}\".format(sugeno_score))\n",
    "            \n",
    "            fuzzy_score[i][j]=sugeno_score\n",
    "            \n",
    "    fuzzy_y_pred=np.argmax(fuzzy_score,axis=1)\n",
    "    #print(\"shape is : {}\".format(fuzzy_y_pred.shape))\n",
    "    #print(\"argmax : {}\".format(np.argmax(fuzzy_score[100])))\n",
    "    acc=accuracy_score(y_test,fuzzy_y_pred)\n",
    "    \n",
    "    return (1-acc)"
   ]
  },
  {
   "cell_type": "code",
   "execution_count": null,
   "id": "7299605a",
   "metadata": {},
   "outputs": [],
   "source": [
    "def Fitness(sample):\n",
    "    fitness_score=Function(sample[0],sample[1],sample[2], sample[3], sample[4])\n",
    "    if fitness_score == 0:\n",
    "        return 9999\n",
    "    else:\n",
    "        return abs(1/fitness_score)"
   ]
  },
  {
   "cell_type": "code",
   "execution_count": null,
   "id": "d3f09b04",
   "metadata": {},
   "outputs": [],
   "source": [
    "best_sol = None\n",
    "max_score = 0\n",
    "for i in range(100):\n",
    "    \n",
    "    population=[]\n",
    "    for p in range(100):\n",
    "        population.append( (random.uniform(0,1),\n",
    "                            random.uniform(0,1),\n",
    "                            random.uniform(0,1),\n",
    "                            random.uniform(0,1),\n",
    "                            random.uniform(0,1)) )  \n",
    "    \n",
    "    rank=[]\n",
    "    for p in population:\n",
    "        fitness=Fitness(p)\n",
    "        rank.append( (fitness,p))\n",
    "    rank.sort()\n",
    "    rank.reverse()\n",
    "    \n",
    "    if rank[0][0]>max_score:\n",
    "        max_score = rank[0][0]\n",
    "        best_sol = rank[0]\n",
    "    \n",
    "    print(rank[0])\n",
    "    \n",
    "    best_population=rank[:25]\n",
    "    \n",
    "    if best_population[0][0] > 999:\n",
    "        break\n",
    "    \n",
    "    all_candidate=[]\n",
    "    for item in best_population:\n",
    "        all_candidate.append( item[1][0])\n",
    "        all_candidate.append(item[1][1])\n",
    "        all_candidate.append(item[1][2])\n",
    "        all_candidate.append(item[1][3])\n",
    "        all_candidate.append(item[1][4])\n",
    "    \n",
    "    new_gen=[]\n",
    "    for _ in range(100):\n",
    "        e1=random.choice(all_candidate) * random.uniform(0.0,0.5)\n",
    "        e2=random.choice(all_candidate) * random.uniform(0.0,0.5)\n",
    "        e3=random.choice(all_candidate) * random.uniform(0.0,0.5)\n",
    "        e4=random.choice(all_candidate) * random.uniform(0.0,0.5)\n",
    "        e5=random.choice(all_candidate) * random.uniform(0.0,0.5)\n",
    "        new_gen.append( (e1,e2,e3,e4,e5) )\n",
    "    \n",
    "    population=new_gen    "
   ]
  },
  {
   "cell_type": "code",
   "execution_count": null,
   "id": "f3ac5b6a",
   "metadata": {},
   "outputs": [],
   "source": []
  },
  {
   "cell_type": "code",
   "execution_count": null,
   "id": "61065de7",
   "metadata": {},
   "outputs": [],
   "source": []
  }
 ],
 "metadata": {
  "kernelspec": {
   "display_name": "Python 3 (ipykernel)",
   "language": "python",
   "name": "python3"
  },
  "language_info": {
   "codemirror_mode": {
    "name": "ipython",
    "version": 3
   },
   "file_extension": ".py",
   "mimetype": "text/x-python",
   "name": "python",
   "nbconvert_exporter": "python",
   "pygments_lexer": "ipython3",
   "version": "3.9.12"
  }
 },
 "nbformat": 4,
 "nbformat_minor": 5
}
