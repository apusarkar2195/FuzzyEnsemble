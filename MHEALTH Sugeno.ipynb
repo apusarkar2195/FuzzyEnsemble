{
 "cells": [
  {
   "cell_type": "code",
   "execution_count": null,
   "id": "6fd21ec4",
   "metadata": {},
   "outputs": [],
   "source": [
    "import numpy as np\n",
    "import os\n",
    "from sympy.solvers import solve\n",
    "from sympy import Symbol\n",
    "from sklearn.metrics import accuracy_score"
   ]
  },
  {
   "cell_type": "code",
   "execution_count": null,
   "id": "33315daf",
   "metadata": {},
   "outputs": [],
   "source": [
    "model_1_path = os.path.join(os.getcwd(), \"Confidence Score\", \"MHEALTH\", \"MHEALTH_incep.npy\")\n",
    "model_2_path = os.path.join(os.getcwd(), \"Confidence Score\", \"MHEALTH\", \"MHEALTH_resnet.npy\")\n",
    "model_3_path = os.path.join(os.getcwd(), \"Confidence Score\", \"MHEALTH\", \"MHEALTH_cus.npy\")\n",
    "model_4_path = os.path.join(os.getcwd(), \"Confidence Score\", \"MHEALTH\", \"MHEALTH_den.npy\")\n",
    "model_5_path = os.path.join(os.getcwd(), \"Confidence Score\", \"MHEALTH\", \"MHEALTH_xcep.npy\")\n",
    "\n",
    "test_path = os.path.join(os.getcwd(), \"Confidence Score\", \"MHEALTH\", \"MHEALTH_test.npz\")"
   ]
  },
  {
   "cell_type": "code",
   "execution_count": null,
   "id": "4e8775fa",
   "metadata": {},
   "outputs": [],
   "source": [
    "model_1_score=np.load(model_1_path)\n",
    "model_2_score=np.load(model_2_path)\n",
    "model_3_score=np.load(model_3_path)\n",
    "model_4_score=np.load(model_4_path)\n",
    "model_5_score=np.load(model_5_path)\n",
    "\n",
    "y_test=np.load(test_path)\n",
    "y_test=y_test['y_test']"
   ]
  },
  {
   "cell_type": "code",
   "execution_count": null,
   "id": "372378fc",
   "metadata": {},
   "outputs": [],
   "source": []
  },
  {
   "cell_type": "code",
   "execution_count": null,
   "id": "3e6bbb7b",
   "metadata": {},
   "outputs": [],
   "source": [
    "def Compute_A_3(f,l):\n",
    "    n = len(f)\n",
    "    temp_1 = f[0]+f[1]+f[2]\n",
    "    temp_2 = l * ((f[0] * f[1]) + (f[0] * f[2]) + (f[1] * f[2]))\n",
    "    temp_3 = (f[0] * f[1] * f[2]) * (l ** (n-1))\n",
    "    \n",
    "    return (temp_1 + temp_2 + temp_3)"
   ]
  },
  {
   "cell_type": "code",
   "execution_count": null,
   "id": "06bd6fda",
   "metadata": {},
   "outputs": [],
   "source": []
  },
  {
   "cell_type": "code",
   "execution_count": null,
   "id": "1b28dc6e",
   "metadata": {},
   "outputs": [],
   "source": [
    "def Compute_A_4(f,l):\n",
    "    n = len(f)\n",
    "    temp_1 = f[0]+f[1]+f[2] + f[3]\n",
    "    temp_2 = l * ((f[0] * f[1]) + (f[0] * f[2]) + (f[0] * f[3]) + (f[1] * f[2]) + (f[1] * f[3]) + (f[2] * f[3]))\n",
    "    temp_3 = (f[0] * f[1] * f[2] * f[3]) * (l ** (n-1))\n",
    "    \n",
    "    return (temp_1 + temp_2 + temp_3)"
   ]
  },
  {
   "cell_type": "code",
   "execution_count": null,
   "id": "fd07ea29",
   "metadata": {},
   "outputs": [],
   "source": []
  },
  {
   "cell_type": "code",
   "execution_count": null,
   "id": "116f7b03",
   "metadata": {},
   "outputs": [],
   "source": [
    "fuzzy_measure=np.array([0.23463945081459225, 0.13328061612163145, 0.03364719889913448, 0.2610887108305966, 0.03801994640207629])"
   ]
  },
  {
   "cell_type": "code",
   "execution_count": null,
   "id": "7de7332b",
   "metadata": {},
   "outputs": [],
   "source": [
    "l=Symbol('l',real=True)\n",
    "lam=solve( ( (1+l*fuzzy_measure[0])*(1+l*fuzzy_measure[1])*(1+l*fuzzy_measure[2])*(1+l*fuzzy_measure[3])*(1+l*fuzzy_measure[4]) )-(1+l) , l )\n",
    "lam=float(lam[2])\n",
    "lam"
   ]
  },
  {
   "cell_type": "code",
   "execution_count": null,
   "id": "984654be",
   "metadata": {},
   "outputs": [],
   "source": [
    "fuzzy_score=np.zeros(shape=model_1_score.shape, dtype=float)\n",
    "fuzzy_score.shape"
   ]
  },
  {
   "cell_type": "code",
   "execution_count": null,
   "id": "9b39bc20",
   "metadata": {},
   "outputs": [],
   "source": [
    "for i in range(fuzzy_score.shape[0]):\n",
    "    for j in range(6):\n",
    "        \n",
    "        f_score=np.asarray([ model_1_score[i][j], model_2_score[i][j], model_3_score[i][j], model_4_score[i][j], model_5_score[i][j] ])\n",
    "        \n",
    "        permute_index=np.argsort(f_score)\n",
    "        f_score_permuted=f_score[permute_index]\n",
    "        fuzzy_measure_permuted=fuzzy_measure[permute_index]\n",
    "        \n",
    "        A_0=1.0\n",
    "        A_1 =Compute_A_4(fuzzy_measure_permuted[1:], lam)\n",
    "        A_2 = Compute_A_3(fuzzy_measure_permuted[2:], lam)\n",
    "        A_3=( fuzzy_measure_permuted[3] + fuzzy_measure_permuted[4] + lam*fuzzy_measure_permuted[3]*fuzzy_measure_permuted[4] )\n",
    "        A_4=fuzzy_measure_permuted[4]\n",
    "        #print(\"The A_i values are {} , {}, {}\".format(A_0,A_1,A_2))\n",
    "        \n",
    "        sugeno_score=max([ min(f_score_permuted[0],A_0), min(f_score_permuted[1],A_1), min(f_score_permuted[2],A_2), min(f_score_permuted[3],A_3), min(f_score_permuted[4],A_4) ])\n",
    "        \n",
    "        fuzzy_score[i][j]=sugeno_score"
   ]
  },
  {
   "cell_type": "code",
   "execution_count": null,
   "id": "fb953375",
   "metadata": {},
   "outputs": [],
   "source": [
    "fuzzy_y_pred=np.argmax(fuzzy_score,axis=1)"
   ]
  },
  {
   "cell_type": "code",
   "execution_count": null,
   "id": "9c010d30",
   "metadata": {},
   "outputs": [],
   "source": []
  }
 ],
 "metadata": {
  "kernelspec": {
   "display_name": "Python 3 (ipykernel)",
   "language": "python",
   "name": "python3"
  },
  "language_info": {
   "codemirror_mode": {
    "name": "ipython",
    "version": 3
   },
   "file_extension": ".py",
   "mimetype": "text/x-python",
   "name": "python",
   "nbconvert_exporter": "python",
   "pygments_lexer": "ipython3",
   "version": "3.9.12"
  }
 },
 "nbformat": 4,
 "nbformat_minor": 5
}
