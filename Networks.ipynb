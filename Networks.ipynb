{
 "cells": [
  {
   "cell_type": "code",
   "execution_count": null,
   "id": "3a134f72",
   "metadata": {},
   "outputs": [],
   "source": [
    "import tensorflow as tf\n",
    "from keras.layers import Dense, LSTM, Conv1D, BatchNormalization, Flatten, Dropout, Activation, Bidirectional, MaxPooling1D, GlobalAveragePooling1D, Add\n",
    "from keras.models import Model, Sequential\n",
    "import numpy as np\n",
    "import pandas as pd\n",
    "import os"
   ]
  },
  {
   "cell_type": "markdown",
   "id": "a56b5f05",
   "metadata": {},
   "source": [
    "# Custom Model"
   ]
  },
  {
   "cell_type": "code",
   "execution_count": null,
   "id": "3d659e05",
   "metadata": {},
   "outputs": [],
   "source": [
    "model = Sequential()\n",
    "model.add(Conv1D(64, (4), padding= 'same', input_shape = x_tr[0].shape))\n",
    "model.add(Dropout(0.2))\n",
    "\n",
    "\n",
    "model.add(Conv1D(128, (4), padding='same', activation = 'relu'))\n",
    "model.add(Dropout(0.2))\n",
    "model.add(Conv1D(256, (4), activation= 'relu'))\n",
    "model.add(Dropout(0.2))\n",
    "model.add(Bidirectional(LSTM(128, return_sequences= True)))\n",
    "model.add(Bidirectional(LSTM(64, return_sequences= True)))\n",
    "\n",
    "model.add(Flatten())\n",
    "\n",
    "model.add(Dense(64, activation='relu'))\n",
    "model.add(Dense(6, activation='softmax'))"
   ]
  },
  {
   "cell_type": "markdown",
   "id": "eb5af53d",
   "metadata": {},
   "source": [
    "# VGG16"
   ]
  },
  {
   "cell_type": "code",
   "execution_count": null,
   "id": "0be8ebda",
   "metadata": {},
   "outputs": [],
   "source": [
    "model1 = Sequential()\n",
    "model1.add(Conv1D(64, (3), padding= 'same', input_shape = x_tr[0].shape, activation = 'elu'))\n",
    "model1.add(Conv1D(64, (3), padding= 'same', activation = 'elu'))\n",
    "model1.add(MaxPooling1D(pool_size=4, strides=2))\n",
    "model1.add(Conv1D(128, (3), padding = 'same', activation = 'elu'))\n",
    "model1.add(Conv1D(128, (3), padding = 'same', activation = 'elu'))\n",
    "model1.add(MaxPooling1D(pool_size=4, strides=2))\n",
    "model1.add(Conv1D(256, (3), padding = 'same', activation = 'elu'))\n",
    "model1.add(Conv1D(256, (3), padding = 'same', activation = 'elu'))\n",
    "model1.add(Conv1D(256, (3), padding = 'same', activation = 'elu'))\n",
    "model1.add(MaxPooling1D(pool_size=4, strides=2))\n",
    "model1.add(Conv1D(512, (3), padding = 'same', activation = 'elu'))\n",
    "model1.add(Conv1D(512, (3), padding = 'same', activation = 'elu'))\n",
    "model1.add(Conv1D(512, (3), padding = 'same', activation = 'elu'))\n",
    "model1.add(MaxPooling1D(pool_size=4, strides=2))\n",
    "model1.add(Flatten())\n",
    "model1.add(Dense(256, activation='elu'))\n",
    "model1.add(Dense(128, activation='elu'))\n",
    "model1.add(Dense(6, activation='softmax'))"
   ]
  },
  {
   "cell_type": "markdown",
   "id": "cc422e94",
   "metadata": {},
   "source": [
    "# Resnet"
   ]
  },
  {
   "cell_type": "code",
   "execution_count": null,
   "id": "893a30b6",
   "metadata": {},
   "outputs": [],
   "source": [
    "class ResnetBlock(Model):\n",
    "    \"\"\"\n",
    "    A standard resnet block.\n",
    "    \"\"\"\n",
    "\n",
    "    def __init__(self, channels: int, down_sample=False):\n",
    "        \"\"\"\n",
    "        channels: same as number of convolution kernels\n",
    "        \"\"\"\n",
    "        super().__init__()\n",
    "\n",
    "        self.__channels = channels\n",
    "        self.__down_sample = down_sample\n",
    "        self.__strides = [2, 1] if down_sample else [1, 1]\n",
    "\n",
    "        KERNEL_SIZE = (3)\n",
    "        \n",
    "        INIT_SCHEME = \"he_normal\"\n",
    "\n",
    "        self.conv_1 = Conv1D(self.__channels, strides=self.__strides[0],\n",
    "                             kernel_size=KERNEL_SIZE, padding=\"same\", activation= 'elu')\n",
    "        self.bn_1 = BatchNormalization()\n",
    "        self.conv_2 = Conv1D(self.__channels, strides=self.__strides[1],\n",
    "                             kernel_size=KERNEL_SIZE, padding=\"same\", activation= 'elu')\n",
    "        self.bn_2 = BatchNormalization()\n",
    "        self.merge = Add()\n",
    "\n",
    "        if self.__down_sample:\n",
    "            \n",
    "            self.res_conv = Conv1D(\n",
    "                self.__channels, strides=2, kernel_size=(1), kernel_initializer=INIT_SCHEME, padding=\"same\")\n",
    "            self.res_bn = BatchNormalization()\n",
    "\n",
    "    def call(self, inputs):\n",
    "        res = inputs\n",
    "\n",
    "        x = self.conv_1(inputs)\n",
    "        x = self.bn_1(x)\n",
    "        x = tf.nn.relu(x)\n",
    "        x = self.conv_2(x)\n",
    "        x = self.bn_2(x)\n",
    "\n",
    "        if self.__down_sample:\n",
    "            res = self.res_conv(res)\n",
    "            res = self.res_bn(res)\n",
    "\n",
    "        # if not perform down sample, then add a shortcut directly\n",
    "        x = self.merge([x, res])\n",
    "        out = tf.nn.relu(x)\n",
    "        return out\n",
    "\n",
    "\n",
    "class ResNet18(Model):\n",
    "\n",
    "    def __init__(self, num_classes, **kwargs):\n",
    "        \"\"\"\n",
    "            num_classes: number of classes in specific classification task.\n",
    "        \"\"\"\n",
    "        super().__init__(**kwargs)\n",
    "        self.conv_1 = Conv1D(64, (7), strides=2,\n",
    "                             padding=\"same\", kernel_initializer=\"he_normal\", input_shape = x_tr[0].shape)\n",
    "        self.init_bn = BatchNormalization()\n",
    "        self.pool_2 = MaxPooling1D(pool_size=(2), strides=2, padding=\"same\")\n",
    "        self.res_1_1 = ResnetBlock(64)\n",
    "        self.res_1_2 = ResnetBlock(64)\n",
    "        self.res_2_1 = ResnetBlock(128, down_sample=True)\n",
    "        self.res_2_2 = ResnetBlock(128)\n",
    "        self.res_3_1 = ResnetBlock(256, down_sample=True)\n",
    "        self.res_3_2 = ResnetBlock(256)\n",
    "        self.res_4_1 = ResnetBlock(512, down_sample=True)\n",
    "        self.res_4_2 = ResnetBlock(512)\n",
    "        self.avg_pool = GlobalAveragePooling1D()\n",
    "        self.flat = Flatten()\n",
    "        self.fc = Dense(num_classes, activation=\"softmax\")\n",
    "\n",
    "    def call(self, inputs):\n",
    "        out = self.conv_1(inputs)\n",
    "        out = self.init_bn(out)\n",
    "        out = tf.nn.relu(out)\n",
    "        out = self.pool_2(out)\n",
    "        for res_block in [self.res_1_1, self.res_1_2, self.res_2_1, self.res_2_2, self.res_3_1, self.res_3_2, self.res_4_1, self.res_4_2]:\n",
    "            out = res_block(out)\n",
    "        out = self.avg_pool(out)\n",
    "        out = self.flat(out)\n",
    "        out = self.fc(out)\n",
    "        return out"
   ]
  },
  {
   "cell_type": "code",
   "execution_count": null,
   "id": "ddfa1a5b",
   "metadata": {},
   "outputs": [],
   "source": [
    "model2 = ResNet18(6)"
   ]
  },
  {
   "cell_type": "code",
   "execution_count": null,
   "id": "eea5a98c",
   "metadata": {},
   "outputs": [],
   "source": []
  },
  {
   "cell_type": "code",
   "execution_count": null,
   "id": "a1bb7886",
   "metadata": {},
   "outputs": [],
   "source": []
  },
  {
   "cell_type": "code",
   "execution_count": null,
   "id": "74307f9f",
   "metadata": {},
   "outputs": [],
   "source": [
    "model.compile(\n",
    "            loss = 'sparse_categorical_crossentropy',\n",
    "            metrics= ['accuracy'],\n",
    "            optimizer= tf.keras.optimizers.Adamax(learning_rate=0.0001)\n",
    ")"
   ]
  },
  {
   "cell_type": "code",
   "execution_count": null,
   "id": "5de29c41",
   "metadata": {},
   "outputs": [],
   "source": [
    "filepath = r'.......'\n",
    "model_checkpoint = tf.keras.callbacks.ModelCheckpoint(\"WISDM_custom.h5\", \n",
    "                                            monitor = 'val_loss',\n",
    "                                            save_best_only = True,\n",
    "                                            mode = 'auto',\n",
    "                                            save_freq = 'epoch'\n",
    ")"
   ]
  },
  {
   "cell_type": "code",
   "execution_count": null,
   "id": "6ea4ac81",
   "metadata": {},
   "outputs": [],
   "source": [
    "his = model.fit(\n",
    "        x_tr, y_tr,\n",
    "        epochs= 100,\n",
    "       validation_data= (x_test, y_test),\n",
    "       callbacks= [model_checkpoint]\n",
    ")"
   ]
  },
  {
   "cell_type": "code",
   "execution_count": null,
   "id": "975fc683",
   "metadata": {},
   "outputs": [],
   "source": []
  }
 ],
 "metadata": {
  "kernelspec": {
   "display_name": "Python 3 (ipykernel)",
   "language": "python",
   "name": "python3"
  },
  "language_info": {
   "codemirror_mode": {
    "name": "ipython",
    "version": 3
   },
   "file_extension": ".py",
   "mimetype": "text/x-python",
   "name": "python",
   "nbconvert_exporter": "python",
   "pygments_lexer": "ipython3",
   "version": "3.9.12"
  }
 },
 "nbformat": 4,
 "nbformat_minor": 5
}
